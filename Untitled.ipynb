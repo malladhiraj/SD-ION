{
 "cells": [
  {
   "cell_type": "code",
   "execution_count": 3,
   "id": "76c52bff",
   "metadata": {},
   "outputs": [
    {
     "name": "stdout",
     "output_type": "stream",
     "text": [
      "Requirement already satisfied: cloudgenix in c:\\users\\111986\\.conda\\envs\\myenv\\lib\\site-packages (6.3.2b1)\n",
      "Requirement already satisfied: requests in c:\\users\\111986\\.conda\\envs\\myenv\\lib\\site-packages (from cloudgenix) (2.31.0)\n",
      "Requirement already satisfied: urllib3>=2.0.0 in c:\\users\\111986\\.conda\\envs\\myenv\\lib\\site-packages (from cloudgenix) (2.2.1)\n",
      "Requirement already satisfied: websockets>=8.1 in c:\\users\\111986\\.conda\\envs\\myenv\\lib\\site-packages (from cloudgenix) (10.3)\n",
      "Requirement already satisfied: charset-normalizer<4,>=2 in c:\\users\\111986\\.conda\\envs\\myenv\\lib\\site-packages (from requests->cloudgenix) (2.1.0)\n",
      "Requirement already satisfied: idna<4,>=2.5 in c:\\users\\111986\\.conda\\envs\\myenv\\lib\\site-packages (from requests->cloudgenix) (3.3)\n",
      "Requirement already satisfied: certifi>=2017.4.17 in c:\\users\\111986\\.conda\\envs\\myenv\\lib\\site-packages (from requests->cloudgenix) (2022.6.15)\n"
     ]
    }
   ],
   "source": [
    "!pip install cloudgenix"
   ]
  },
  {
   "cell_type": "code",
   "execution_count": 4,
   "id": "3354ab5f",
   "metadata": {},
   "outputs": [
    {
     "name": "stdout",
     "output_type": "stream",
     "text": [
      "Requirement already satisfied: cloudgenix in c:\\users\\111986\\.conda\\envs\\myenv\\lib\\site-packages (6.3.2b1)Note: you may need to restart the kernel to use updated packages.\n",
      "\n",
      "Requirement already satisfied: requests in c:\\users\\111986\\.conda\\envs\\myenv\\lib\\site-packages (from cloudgenix) (2.31.0)\n",
      "Requirement already satisfied: urllib3>=2.0.0 in c:\\users\\111986\\.conda\\envs\\myenv\\lib\\site-packages (from cloudgenix) (2.2.1)\n",
      "Requirement already satisfied: websockets>=8.1 in c:\\users\\111986\\.conda\\envs\\myenv\\lib\\site-packages (from cloudgenix) (10.3)\n",
      "Requirement already satisfied: charset-normalizer<4,>=2 in c:\\users\\111986\\.conda\\envs\\myenv\\lib\\site-packages (from requests->cloudgenix) (2.1.0)\n",
      "Requirement already satisfied: idna<4,>=2.5 in c:\\users\\111986\\.conda\\envs\\myenv\\lib\\site-packages (from requests->cloudgenix) (3.3)\n",
      "Requirement already satisfied: certifi>=2017.4.17 in c:\\users\\111986\\.conda\\envs\\myenv\\lib\\site-packages (from requests->cloudgenix) (2022.6.15)\n"
     ]
    }
   ],
   "source": [
    "pip install --upgrade cloudgenix"
   ]
  },
  {
   "cell_type": "code",
   "execution_count": 5,
   "id": "004883df",
   "metadata": {},
   "outputs": [
    {
     "name": "stdout",
     "output_type": "stream",
     "text": [
      "Collecting certifi==2023.7.22 (from -r requirements.txt (line 1))"
     ]
    },
    {
     "name": "stderr",
     "output_type": "stream",
     "text": [
      "ERROR: Could not install packages due to an OSError: [WinError 5] Access is denied: 'C:\\\\Users\\\\111986\\\\.conda\\\\envs\\\\myenv\\\\Lib\\\\site-packages\\\\~aml\\\\_yaml.cp310-win_amd64.pyd'\n",
      "Consider using the `--user` option or check the permissions.\n",
      "\n"
     ]
    },
    {
     "name": "stdout",
     "output_type": "stream",
     "text": [
      "\n",
      "  Obtaining dependency information for certifi==2023.7.22 from https://files.pythonhosted.org/packages/4c/dd/2234eab22353ffc7d94e8d13177aaa050113286e93e7b40eae01fbf7c3d9/certifi-2023.7.22-py3-none-any.whl.metadata\n",
      "  Using cached certifi-2023.7.22-py3-none-any.whl.metadata (2.2 kB)\n",
      "Collecting charset-normalizer==3.2.0 (from -r requirements.txt (line 2))\n",
      "  Obtaining dependency information for charset-normalizer==3.2.0 from https://files.pythonhosted.org/packages/5c/f2/f3faa20684729d3910af2ee142e30432c7a46a817eadeeab87366ed87bbb/charset_normalizer-3.2.0-cp310-cp310-win_amd64.whl.metadata\n",
      "  Using cached charset_normalizer-3.2.0-cp310-cp310-win_amd64.whl.metadata (31 kB)\n",
      "Collecting idna==3.4 (from -r requirements.txt (line 3))\n",
      "  Obtaining dependency information for idna==3.4 from https://files.pythonhosted.org/packages/fc/34/3030de6f1370931b9dbb4dad48f6ab1015ab1d32447850b9fc94e60097be/idna-3.4-py3-none-any.whl.metadata\n",
      "  Downloading idna-3.4-py3-none-any.whl.metadata (9.8 kB)\n",
      "Requirement already satisfied: Jinja2==3.1.2 in c:\\users\\111986\\.conda\\envs\\myenv\\lib\\site-packages (from -r requirements.txt (line 4)) (3.1.2)\n",
      "Collecting MarkupSafe==2.1.3 (from -r requirements.txt (line 5))\n",
      "  Obtaining dependency information for MarkupSafe==2.1.3 from https://files.pythonhosted.org/packages/84/a8/c4aebb8a14a1d39d5135eb8233a0b95831cdc42c4088358449c3ed657044/MarkupSafe-2.1.3-cp310-cp310-win_amd64.whl.metadata\n",
      "  Downloading MarkupSafe-2.1.3-cp310-cp310-win_amd64.whl.metadata (3.1 kB)\n",
      "Collecting pyaml==23.7.0 (from -r requirements.txt (line 6))\n",
      "  Obtaining dependency information for pyaml==23.7.0 from https://files.pythonhosted.org/packages/9e/50/bd36e3abbab7db2a9d33a71540266189d036177cf7932d5465328ec851e8/pyaml-23.7.0-py3-none-any.whl.metadata\n",
      "  Downloading pyaml-23.7.0-py3-none-any.whl.metadata (10.0 kB)\n",
      "Collecting PyYAML==6.0.1 (from -r requirements.txt (line 7))\n",
      "  Obtaining dependency information for PyYAML==6.0.1 from https://files.pythonhosted.org/packages/24/97/9b59b43431f98d01806b288532da38099cc6f2fea0f3d712e21e269c0279/PyYAML-6.0.1-cp310-cp310-win_amd64.whl.metadata\n",
      "  Downloading PyYAML-6.0.1-cp310-cp310-win_amd64.whl.metadata (2.1 kB)\n",
      "Requirement already satisfied: requests==2.31.0 in c:\\users\\111986\\.conda\\envs\\myenv\\lib\\site-packages (from -r requirements.txt (line 8)) (2.31.0)\n",
      "Collecting urllib3==2.0.4 (from -r requirements.txt (line 9))\n",
      "  Obtaining dependency information for urllib3==2.0.4 from https://files.pythonhosted.org/packages/9b/81/62fd61001fa4b9d0df6e31d47ff49cfa9de4af03adecf339c7bc30656b37/urllib3-2.0.4-py3-none-any.whl.metadata\n",
      "  Using cached urllib3-2.0.4-py3-none-any.whl.metadata (6.6 kB)\n",
      "Using cached certifi-2023.7.22-py3-none-any.whl (158 kB)\n",
      "Using cached charset_normalizer-3.2.0-cp310-cp310-win_amd64.whl (96 kB)\n",
      "Using cached idna-3.4-py3-none-any.whl (61 kB)\n",
      "Downloading MarkupSafe-2.1.3-cp310-cp310-win_amd64.whl (17 kB)\n",
      "Downloading pyaml-23.7.0-py3-none-any.whl (17 kB)\n",
      "Downloading PyYAML-6.0.1-cp310-cp310-win_amd64.whl (145 kB)\n",
      "   ---------------------------------------- 0.0/145.3 kB ? eta -:--:--\n",
      "   ---------------------------------------- 145.3/145.3 kB 9.0 MB/s eta 0:00:00\n",
      "Using cached urllib3-2.0.4-py3-none-any.whl (123 kB)\n",
      "Installing collected packages: urllib3, PyYAML, MarkupSafe, idna, charset-normalizer, certifi, pyaml\n",
      "  Attempting uninstall: urllib3\n",
      "    Found existing installation: urllib3 2.2.1\n",
      "    Uninstalling urllib3-2.2.1:\n",
      "      Successfully uninstalled urllib3-2.2.1\n",
      "  Attempting uninstall: PyYAML\n",
      "    Found existing installation: PyYAML 6.0\n",
      "    Uninstalling PyYAML-6.0:\n",
      "      Successfully uninstalled PyYAML-6.0\n"
     ]
    }
   ],
   "source": [
    "!pip install -r requirements.txt"
   ]
  },
  {
   "cell_type": "code",
   "execution_count": 6,
   "id": "0ec3a967",
   "metadata": {},
   "outputs": [
    {
     "name": "stderr",
     "output_type": "stream",
     "text": [
      "Traceback (most recent call last):\n",
      "  File \"C:\\Users\\111986\\.conda\\envs\\myenv\\lib\\site-packages\\requests\\models.py\", line 971, in json\n",
      "    return complexjson.loads(self.text, **kwargs)\n",
      "  File \"C:\\Users\\111986\\.conda\\envs\\myenv\\lib\\json\\__init__.py\", line 346, in loads\n",
      "    return _default_decoder.decode(s)\n",
      "  File \"C:\\Users\\111986\\.conda\\envs\\myenv\\lib\\json\\decoder.py\", line 337, in decode\n",
      "    obj, end = self.raw_decode(s, idx=_w(s, 0).end())\n",
      "  File \"C:\\Users\\111986\\.conda\\envs\\myenv\\lib\\json\\decoder.py\", line 355, in raw_decode\n",
      "    raise JSONDecodeError(\"Expecting value\", s, err.value) from None\n",
      "json.decoder.JSONDecodeError: Expecting value: line 1 column 1 (char 0)\n",
      "\n",
      "During handling of the above exception, another exception occurred:\n",
      "\n",
      "Traceback (most recent call last):\n",
      "  File \"C:\\Users\\111986\\Desktop\\sdwan\\Prisma-SD-WAN-JINJA-main\\build.py\", line 114, in <module>\n",
      "    go()\n",
      "  File \"C:\\Users\\111986\\Desktop\\sdwan\\Prisma-SD-WAN-JINJA-main\\build.py\", line 110, in go\n",
      "    build(list_of_csv, jinja) \n",
      "  File \"C:\\Users\\111986\\Desktop\\sdwan\\Prisma-SD-WAN-JINJA-main\\build.py\", line 62, in build\n",
      "    location = requests.get(url=map_url, verify=False).json()\n",
      "  File \"C:\\Users\\111986\\.conda\\envs\\myenv\\lib\\site-packages\\requests\\models.py\", line 975, in json\n",
      "    raise RequestsJSONDecodeError(e.msg, e.doc, e.pos)\n",
      "requests.exceptions.JSONDecodeError: Expecting value: line 1 column 1 (char 0)\n"
     ]
    }
   ],
   "source": [
    "!python build.py -C MasterTemplate.csv -J MasterTemplate.jinja"
   ]
  },
  {
   "cell_type": "code",
   "execution_count": 7,
   "id": "61df63be",
   "metadata": {},
   "outputs": [
    {
     "name": "stderr",
     "output_type": "stream",
     "text": [
      "Traceback (most recent call last):\n",
      "  File \"C:\\Users\\111986\\.conda\\envs\\myenv\\lib\\site-packages\\requests\\models.py\", line 971, in json\n",
      "    return complexjson.loads(self.text, **kwargs)\n",
      "  File \"C:\\Users\\111986\\.conda\\envs\\myenv\\lib\\json\\__init__.py\", line 346, in loads\n",
      "    return _default_decoder.decode(s)\n",
      "  File \"C:\\Users\\111986\\.conda\\envs\\myenv\\lib\\json\\decoder.py\", line 337, in decode\n",
      "    obj, end = self.raw_decode(s, idx=_w(s, 0).end())\n",
      "  File \"C:\\Users\\111986\\.conda\\envs\\myenv\\lib\\json\\decoder.py\", line 355, in raw_decode\n",
      "    raise JSONDecodeError(\"Expecting value\", s, err.value) from None\n",
      "json.decoder.JSONDecodeError: Expecting value: line 1 column 1 (char 0)\n",
      "\n",
      "During handling of the above exception, another exception occurred:\n",
      "\n",
      "Traceback (most recent call last):\n",
      "  File \"C:\\Users\\111986\\Desktop\\sdwan\\Prisma-SD-WAN-JINJA-main\\build.py\", line 114, in <module>\n",
      "    go()\n",
      "  File \"C:\\Users\\111986\\Desktop\\sdwan\\Prisma-SD-WAN-JINJA-main\\build.py\", line 110, in go\n",
      "    build(list_of_csv, jinja) \n",
      "  File \"C:\\Users\\111986\\Desktop\\sdwan\\Prisma-SD-WAN-JINJA-main\\build.py\", line 62, in build\n",
      "    location = requests.get(url=map_url, verify=False).json()\n",
      "  File \"C:\\Users\\111986\\.conda\\envs\\myenv\\lib\\site-packages\\requests\\models.py\", line 975, in json\n",
      "    raise RequestsJSONDecodeError(e.msg, e.doc, e.pos)\n",
      "requests.exceptions.JSONDecodeError: Expecting value: line 1 column 1 (char 0)\n"
     ]
    }
   ],
   "source": [
    "!python build.py -C RCCA-Mail-Room-Prod.csv -J MasterTemplate.jinja "
   ]
  },
  {
   "cell_type": "code",
   "execution_count": null,
   "id": "263001f9",
   "metadata": {},
   "outputs": [],
   "source": []
  }
 ],
 "metadata": {
  "kernelspec": {
   "display_name": "Python 3 (ipykernel)",
   "language": "python",
   "name": "python3"
  },
  "language_info": {
   "codemirror_mode": {
    "name": "ipython",
    "version": 3
   },
   "file_extension": ".py",
   "mimetype": "text/x-python",
   "name": "python",
   "nbconvert_exporter": "python",
   "pygments_lexer": "ipython3",
   "version": "3.10.12"
  }
 },
 "nbformat": 4,
 "nbformat_minor": 5
}
